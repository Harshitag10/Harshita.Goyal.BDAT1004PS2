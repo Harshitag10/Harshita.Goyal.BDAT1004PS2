{
 "cells": [
  {
   "cell_type": "markdown",
   "id": "493eac55",
   "metadata": {},
   "source": [
    "# QUESTION 1\n",
    "\n",
    "\n"
   ]
  },
  {
   "cell_type": "code",
   "execution_count": 19,
   "id": "fa09f3e3",
   "metadata": {},
   "outputs": [
    {
     "data": {
      "text/plain": [
       "6"
      ]
     },
     "execution_count": 19,
     "metadata": {},
     "output_type": "execute_result"
    }
   ],
   "source": [
    "a = 0\n",
    "def b():\n",
    "     global a\n",
    "     a = c(a)\n",
    "def c(a):\n",
    "     return a + 2\n",
    "    \n",
    "    \n",
    "b()\n",
    "b()\n",
    "b()\n",
    "a\n"
   ]
  },
  {
   "cell_type": "markdown",
   "id": "3231dea1",
   "metadata": {},
   "source": [
    "As we have defined 'a' as a global variable. all the changes in the function would also change \n",
    "its value outside the function. a starts with value 0 then whewe run b() for the first time we get \n",
    "a=2 then again we run we get a=4 and then the final time we get a=6. This value of a has changed\n",
    "globally and not just in the function which is why when we call a we get a=6\n",
    "\n"
   ]
  },
  {
   "cell_type": "markdown",
   "id": "c101debc",
   "metadata": {},
   "source": [
    "# QUESTION 2"
   ]
  },
  {
   "cell_type": "code",
   "execution_count": 34,
   "id": "3ee3bc04",
   "metadata": {},
   "outputs": [],
   "source": [
    "def fileLength(fileName):\n",
    "    try:\n",
    "        infile=open(fileName)\n",
    "        length=len(infile.readlines())\n",
    "        print(length)\n",
    "    except FileNotFoundError:\n",
    "        print(\"File {} not found\".format(fileName))"
   ]
  },
  {
   "cell_type": "code",
   "execution_count": 35,
   "id": "054f99f8",
   "metadata": {},
   "outputs": [
    {
     "name": "stdout",
     "output_type": "stream",
     "text": [
      "46\n"
     ]
    }
   ],
   "source": [
    "fileLength('midterm.ipynb')"
   ]
  },
  {
   "cell_type": "code",
   "execution_count": 33,
   "id": "c8c71bc2",
   "metadata": {},
   "outputs": [
    {
     "name": "stdout",
     "output_type": "stream",
     "text": [
      "File idterm.py not found\n"
     ]
    }
   ],
   "source": [
    "fileLength('idterm.py')"
   ]
  },
  {
   "cell_type": "markdown",
   "id": "959618cf",
   "metadata": {},
   "source": [
    "# QUESTION3"
   ]
  },
  {
   "cell_type": "code",
   "execution_count": 8,
   "id": "cbea9998",
   "metadata": {},
   "outputs": [],
   "source": [
    "class Marsupial:\n",
    "    \n",
    "    def __init__(self):\n",
    "        self.marsupial=[]\n",
    "        \n",
    "    def put_in_pouch(self,item):\n",
    "        return self.marsupial.append(item)\n",
    "    \n",
    "    def pouch_contents(self):\n",
    "        print(self.marsupial)"
   ]
  },
  {
   "cell_type": "code",
   "execution_count": 9,
   "id": "9aa42b09",
   "metadata": {},
   "outputs": [
    {
     "name": "stdout",
     "output_type": "stream",
     "text": [
      "['doll', 'firetruck', 'kitten']\n"
     ]
    }
   ],
   "source": [
    "m = Marsupial()\n",
    "m.put_in_pouch('doll')\n",
    "m.put_in_pouch('firetruck')\n",
    "m.put_in_pouch('kitten')\n",
    "m.pouch_contents()"
   ]
  },
  {
   "cell_type": "code",
   "execution_count": 44,
   "id": "151b7feb",
   "metadata": {},
   "outputs": [],
   "source": [
    "class Kangaroo(Marsupial):\n",
    "    \n",
    "    def __init__(self,x,y):\n",
    "        super().__init__()\n",
    "        self.x=x\n",
    "        self.y=y\n",
    "        \n",
    "    def jump(self,dx=0,dy=0):\n",
    "        self.x += dx\n",
    "        self.y += dy\n",
    "        \n",
    "    def __str__(self):\n",
    "        return (\"I am a Kangaroo located at coordinates ({},{})\".format(self.x,self.y))\n",
    "        \n",
    "        \n",
    "    "
   ]
  },
  {
   "cell_type": "code",
   "execution_count": 45,
   "id": "13743107",
   "metadata": {},
   "outputs": [
    {
     "name": "stdout",
     "output_type": "stream",
     "text": [
      "I am a Kangaroo located at coordinates (0,0)\n",
      "['doll', 'firetruck', 'kitten']\n",
      "I am a Kangaroo located at coordinates (3,0)\n"
     ]
    }
   ],
   "source": [
    "k = Kangaroo(0,0)\n",
    "print(k)\n",
    "k.put_in_pouch('doll')\n",
    "k.put_in_pouch('firetruck')\n",
    "k.put_in_pouch('kitten')\n",
    "k.pouch_contents()\n",
    "k.jump(1,0)\n",
    "k.jump(1,0)\n",
    "k.jump(1,0)\n",
    "print(k)\n"
   ]
  },
  {
   "cell_type": "markdown",
   "id": "5dae1601",
   "metadata": {},
   "source": [
    "# QUESTION 4"
   ]
  },
  {
   "cell_type": "code",
   "execution_count": 6,
   "id": "0ba688c4",
   "metadata": {},
   "outputs": [
    {
     "name": "stdout",
     "output_type": "stream",
     "text": [
      "1\n"
     ]
    }
   ],
   "source": [
    "def collatz(x):\n",
    "    print(int(x))\n",
    "    if x%2==0 and x!=1:\n",
    "        x=x/2\n",
    "        collatz(x)\n",
    "    else:\n",
    "        if x!=1:\n",
    "            x=3*x+1\n",
    "            collatz(x)\n",
    "        \n",
    "        \n",
    "collatz(1)\n",
    "\n"
   ]
  },
  {
   "cell_type": "code",
   "execution_count": 7,
   "id": "b06d0066",
   "metadata": {},
   "outputs": [
    {
     "name": "stdout",
     "output_type": "stream",
     "text": [
      "10\n",
      "5\n",
      "16\n",
      "8\n",
      "4\n",
      "2\n",
      "1\n"
     ]
    }
   ],
   "source": [
    "collatz(10)"
   ]
  },
  {
   "cell_type": "markdown",
   "id": "30a10e7c",
   "metadata": {},
   "source": [
    "# QUESTION 5"
   ]
  },
  {
   "cell_type": "code",
   "execution_count": 79,
   "id": "ad30b4c9",
   "metadata": {},
   "outputs": [],
   "source": [
    "def binary(n):\n",
    "    if n < 2:\n",
    "        return n\n",
    "    else:\n",
    "        return (n%2+10*binary(int(n//2)))\n",
    "        \n",
    "        "
   ]
  },
  {
   "cell_type": "code",
   "execution_count": 80,
   "id": "2ea05c56",
   "metadata": {},
   "outputs": [
    {
     "data": {
      "text/plain": [
       "0"
      ]
     },
     "execution_count": 80,
     "metadata": {},
     "output_type": "execute_result"
    }
   ],
   "source": [
    "binary(0)"
   ]
  },
  {
   "cell_type": "code",
   "execution_count": 81,
   "id": "f300c1f4",
   "metadata": {},
   "outputs": [
    {
     "data": {
      "text/plain": [
       "1"
      ]
     },
     "execution_count": 81,
     "metadata": {},
     "output_type": "execute_result"
    }
   ],
   "source": [
    "binary(1)"
   ]
  },
  {
   "cell_type": "code",
   "execution_count": 82,
   "id": "57407016",
   "metadata": {},
   "outputs": [
    {
     "data": {
      "text/plain": [
       "11"
      ]
     },
     "execution_count": 82,
     "metadata": {},
     "output_type": "execute_result"
    }
   ],
   "source": [
    "binary(3)"
   ]
  },
  {
   "cell_type": "code",
   "execution_count": 83,
   "id": "1c3bf1d0",
   "metadata": {},
   "outputs": [
    {
     "data": {
      "text/plain": [
       "1001"
      ]
     },
     "execution_count": 83,
     "metadata": {},
     "output_type": "execute_result"
    }
   ],
   "source": [
    "binary(9)"
   ]
  },
  {
   "cell_type": "markdown",
   "id": "6a563871",
   "metadata": {},
   "source": [
    "# QUESTION 6"
   ]
  },
  {
   "cell_type": "code",
   "execution_count": 101,
   "id": "69c23808",
   "metadata": {},
   "outputs": [
    {
     "name": "stdout",
     "output_type": "stream",
     "text": [
      "W3C Mission\n",
      "\n",
      "\n",
      "\tPrinciples\n",
      "\t\n",
      "\n"
     ]
    }
   ],
   "source": [
    "infile = open('w3c.html') \n",
    "content = infile.read() \n",
    "infile.close() \n",
    "from html.parser import HTMLParser\n",
    "\n",
    "class HeadingParser(HTMLParser):\n",
    "    def handle_data(self, data):\n",
    "        if HTMLParser.get_starttag_text(self).endswith('h1>'):\n",
    "            print (data)\n",
    "        if HTMLParser.get_starttag_text(self).endswith('h2>'):\n",
    "            print ('\\t'+data)\n",
    "            \n",
    "hp = HeadingParser()\n",
    "hp.feed(content)"
   ]
  },
  {
   "cell_type": "markdown",
   "id": "b8f303f6",
   "metadata": {},
   "source": [
    "# QUESTION 8"
   ]
  },
  {
   "cell_type": "code",
   "execution_count": 64,
   "id": "dc8567ba",
   "metadata": {},
   "outputs": [
    {
     "data": {
      "text/plain": [
       "<sqlite3.Cursor at 0x20242a0d810>"
      ]
     },
     "execution_count": 64,
     "metadata": {},
     "output_type": "execute_result"
    }
   ],
   "source": [
    "import sqlite3\n",
    "con=sqlite3.connect(\"rain.db\")\n",
    "cur=con.cursor()\n",
    "cur.execute(\"CREATE TABLE WEATHER (City text,Country text, Season text, Temperature float, Rainfall float)\")\n",
    "obs1=(\"Mumbai\",\"India\",\"Winter\",24.8,5.9)\n",
    "obs2=(\"Mumbai\",\"India\",\"Spring\",28.4,16.2)\n",
    "obs3=(\"Mumbai\",\"India\",\"Summer\",27.9,1549.4)\n",
    "obs4=(\"Mumbai\",\"India\",\"Fall\",27.6,346.0)\n",
    "obs5=(\"London\",\"United Kingdom\",\"Winter\",4.2,207.7)\n",
    "obs6=(\"London\",\"United Kingdom\",\"Spring\",8.3,169.6)\n",
    "obs7=(\"London\",\"United Kingdom\",\"Summer\",15.7,157.0)\n",
    "obs8=(\"London\",\"United Kingdom\",\"Fall\",10.4,218.5)\n",
    "obs9=(\"Cairo\",\"Egypt\",\"Winter\",13.6,16.5)\n",
    "obs10=(\"Cairo\",\"Egypt\",\"Spring\",20.7,6.5)\n",
    "obs11=(\"Cairo\",\"Egypt\",\"Summer\",27.7,0.1)\n",
    "obs12=(\"Cairo\",\"Egypt\",\"Fall\",22.2,4.5)\n",
    "\n",
    "cur.execute(\"INSERT INTO WEATHER VALUES (?,?,?,?,?)\",obs1)\n",
    "cur.execute(\"INSERT INTO WEATHER VALUES (?,?,?,?,?)\",obs2)\n",
    "cur.execute(\"INSERT INTO WEATHER VALUES (?,?,?,?,?)\",obs3)\n",
    "cur.execute(\"INSERT INTO WEATHER VALUES (?,?,?,?,?)\",obs4)\n",
    "cur.execute(\"INSERT INTO WEATHER VALUES (?,?,?,?,?)\",obs5)\n",
    "cur.execute(\"INSERT INTO WEATHER VALUES (?,?,?,?,?)\",obs6)\n",
    "cur.execute(\"INSERT INTO WEATHER VALUES (?,?,?,?,?)\",obs7)\n",
    "cur.execute(\"INSERT INTO WEATHER VALUES (?,?,?,?,?)\",obs8)\n",
    "cur.execute(\"INSERT INTO WEATHER VALUES (?,?,?,?,?)\",obs9)\n",
    "cur.execute(\"INSERT INTO WEATHER VALUES (?,?,?,?,?)\",obs10)\n",
    "cur.execute(\"INSERT INTO WEATHER VALUES (?,?,?,?,?)\",obs11)\n",
    "cur.execute(\"INSERT INTO WEATHER VALUES (?,?,?,?,?)\",obs12)"
   ]
  },
  {
   "cell_type": "code",
   "execution_count": 85,
   "id": "21aed5c4",
   "metadata": {},
   "outputs": [
    {
     "data": {
      "text/plain": [
       "[(24.8,),\n",
       " (28.4,),\n",
       " (27.9,),\n",
       " (27.6,),\n",
       " (4.2,),\n",
       " (8.3,),\n",
       " (15.7,),\n",
       " (10.4,),\n",
       " (13.6,),\n",
       " (20.7,),\n",
       " (27.7,),\n",
       " (22.2,)]"
      ]
     },
     "execution_count": 85,
     "metadata": {},
     "output_type": "execute_result"
    }
   ],
   "source": [
    "#a\n",
    "cur.execute('SELECT Temperature FROM WEATHER')\n",
    "cur.fetchall()"
   ]
  },
  {
   "cell_type": "code",
   "execution_count": 66,
   "id": "4bc006af",
   "metadata": {},
   "outputs": [
    {
     "data": {
      "text/plain": [
       "[('Mumbai',), ('London',), ('Cairo',)]"
      ]
     },
     "execution_count": 66,
     "metadata": {},
     "output_type": "execute_result"
    }
   ],
   "source": [
    "#b\n",
    "cur.execute('SELECT DISTINCT City FROM WEATHER')\n",
    "cur.fetchall()"
   ]
  },
  {
   "cell_type": "code",
   "execution_count": 72,
   "id": "4f994eba",
   "metadata": {},
   "outputs": [
    {
     "data": {
      "text/plain": [
       "[('Mumbai', 'India', 'Winter', 24.8, 5.9),\n",
       " ('Mumbai', 'India', 'Spring', 28.4, 16.2),\n",
       " ('Mumbai', 'India', 'Summer', 27.9, 1549.4),\n",
       " ('Mumbai', 'India', 'Fall', 27.6, 346.0)]"
      ]
     },
     "execution_count": 72,
     "metadata": {},
     "output_type": "execute_result"
    }
   ],
   "source": [
    "#c\n",
    "cur.execute('SELECT * FROM WEATHER WHERE Country=\"India\"')\n",
    "cur.fetchall()"
   ]
  },
  {
   "cell_type": "code",
   "execution_count": 71,
   "id": "1f337a38",
   "metadata": {},
   "outputs": [
    {
     "data": {
      "text/plain": [
       "[('Mumbai', 'India', 'Fall', 27.6, 346.0),\n",
       " ('London', 'United Kingdom', 'Fall', 10.4, 218.5),\n",
       " ('Cairo', 'Egypt', 'Fall', 22.2, 4.5)]"
      ]
     },
     "execution_count": 71,
     "metadata": {},
     "output_type": "execute_result"
    }
   ],
   "source": [
    "#d\n",
    "cur.execute('SELECT * FROM WEATHER WHERE Season=\"Fall\"')\n",
    "cur.fetchall()"
   ]
  },
  {
   "cell_type": "code",
   "execution_count": 73,
   "id": "9376197b",
   "metadata": {},
   "outputs": [
    {
     "data": {
      "text/plain": [
       "[('Mumbai', 'India', 'Fall'),\n",
       " ('London', 'United Kingdom', 'Winter'),\n",
       " ('London', 'United Kingdom', 'Fall')]"
      ]
     },
     "execution_count": 73,
     "metadata": {},
     "output_type": "execute_result"
    }
   ],
   "source": [
    "#e\n",
    "cur.execute('SELECT City, Country, Season FROM WEATHER WHERE Rainfall BETWEEN 200 AND 400')\n",
    "cur.fetchall()"
   ]
  },
  {
   "cell_type": "code",
   "execution_count": 77,
   "id": "9f37c5b3",
   "metadata": {},
   "outputs": [
    {
     "data": {
      "text/plain": [
       "[('Cairo', 'Egypt'), ('Mumbai', 'India')]"
      ]
     },
     "execution_count": 77,
     "metadata": {},
     "output_type": "execute_result"
    }
   ],
   "source": [
    "#f\n",
    "cur.execute('SELECT City, Country FROM WEATHER WHERE Season=\"Fall\" AND Temperature >20 ORDER BY Temperature ASC')\n",
    "cur.fetchall()"
   ]
  },
  {
   "cell_type": "code",
   "execution_count": 78,
   "id": "845ee177",
   "metadata": {},
   "outputs": [
    {
     "data": {
      "text/plain": [
       "[(27.6,)]"
      ]
     },
     "execution_count": 78,
     "metadata": {},
     "output_type": "execute_result"
    }
   ],
   "source": [
    "#g\n",
    "cur.execute('SELECT SUM(Rainfall) FROM WEATHER WHERE City=\"Cairo\"')\n",
    "cur.fetchall()"
   ]
  },
  {
   "cell_type": "code",
   "execution_count": 84,
   "id": "bbdec130",
   "metadata": {},
   "outputs": [
    {
     "data": {
      "text/plain": [
       "[('Fall', 569.0),\n",
       " ('Spring', 192.29999999999998),\n",
       " ('Summer', 1706.5),\n",
       " ('Winter', 230.1)]"
      ]
     },
     "execution_count": 84,
     "metadata": {},
     "output_type": "execute_result"
    }
   ],
   "source": [
    "#h\n",
    "cur.execute('SELECT Season ,SUM(Rainfall) FROM WEATHER GROUP BY Season')\n",
    "cur.fetchall()"
   ]
  },
  {
   "cell_type": "markdown",
   "id": "2d389039",
   "metadata": {},
   "source": [
    "# QUESTION 9"
   ]
  },
  {
   "cell_type": "code",
   "execution_count": 84,
   "id": "e650f8f0",
   "metadata": {},
   "outputs": [
    {
     "name": "stdout",
     "output_type": "stream",
     "text": [
      "['THE', 'QUICK', 'BROWN', 'FOX', 'JUMPS', 'OVER', 'THE', 'LAZY', 'DOG']\n"
     ]
    }
   ],
   "source": [
    "words = ['The', 'quick', 'brown', 'fox', 'jumps', 'over','the', 'lazy', 'dog']\n",
    "\n",
    "#a\n",
    "words_upper= [i.upper() for i in words]\n",
    "print(words_upper)"
   ]
  },
  {
   "cell_type": "code",
   "execution_count": 85,
   "id": "66353baa",
   "metadata": {},
   "outputs": [
    {
     "name": "stdout",
     "output_type": "stream",
     "text": [
      "['the', 'quick', 'brown', 'fox', 'jumps', 'over', 'the', 'lazy', 'dog']\n"
     ]
    }
   ],
   "source": [
    "#b\n",
    "\n",
    "words_lower= [i.lower() for i in words]\n",
    "print(words_lower)"
   ]
  },
  {
   "cell_type": "code",
   "execution_count": 86,
   "id": "aecd456c",
   "metadata": {},
   "outputs": [
    {
     "name": "stdout",
     "output_type": "stream",
     "text": [
      "[3, 5, 5, 3, 5, 4, 3, 4, 3]\n"
     ]
    }
   ],
   "source": [
    "#c\n",
    "\n",
    "words_length=[len(i) for i in words]\n",
    "print(words_length)"
   ]
  },
  {
   "cell_type": "code",
   "execution_count": 89,
   "id": "dca0c78d",
   "metadata": {},
   "outputs": [
    {
     "name": "stdout",
     "output_type": "stream",
     "text": [
      "[('THE', 'the', 3), ('QUICK', 'quick', 5), ('BROWN', 'brown', 5), ('FOX', 'fox', 3), ('JUMPS', 'jumps', 5), ('OVER', 'over', 4), ('THE', 'the', 3), ('LAZY', 'lazy', 4), ('DOG', 'dog', 3)]\n"
     ]
    }
   ],
   "source": [
    "#d\n",
    "words_all=[(a,b,c) for a,b,c in zip(words_upper, words_lower, words_length)]\n",
    "print(words_all)"
   ]
  },
  {
   "cell_type": "code",
   "execution_count": 90,
   "id": "c27fa01f",
   "metadata": {},
   "outputs": [
    {
     "name": "stdout",
     "output_type": "stream",
     "text": [
      "['quick', 'brown', 'jumps', 'over', 'lazy']\n"
     ]
    }
   ],
   "source": [
    "#e\n",
    "\n",
    "words_four=[i for i in words if len(i)>=4]\n",
    "print(words_four)"
   ]
  }
 ],
 "metadata": {
  "kernelspec": {
   "display_name": "Python 3",
   "language": "python",
   "name": "python3"
  },
  "language_info": {
   "codemirror_mode": {
    "name": "ipython",
    "version": 3
   },
   "file_extension": ".py",
   "mimetype": "text/x-python",
   "name": "python",
   "nbconvert_exporter": "python",
   "pygments_lexer": "ipython3",
   "version": "3.8.8"
  }
 },
 "nbformat": 4,
 "nbformat_minor": 5
}
